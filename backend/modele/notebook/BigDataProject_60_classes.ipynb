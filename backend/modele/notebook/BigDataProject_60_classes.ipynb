{
  "cells": [
    {
      "cell_type": "code",
      "execution_count": 2,
      "metadata": {
        "colab": {
          "base_uri": "https://localhost:8080/"
        },
        "id": "X2NXKEQ_55Xm",
        "outputId": "c635003f-9a9a-475e-c413-91cdf0a6a55c"
      },
      "outputs": [
        {
          "output_type": "stream",
          "name": "stdout",
          "text": [
            "Requirement already satisfied: wandb in /usr/local/lib/python3.11/dist-packages (0.19.11)\n",
            "Requirement already satisfied: click!=8.0.0,>=7.1 in /usr/local/lib/python3.11/dist-packages (from wandb) (8.2.1)\n",
            "Requirement already satisfied: docker-pycreds>=0.4.0 in /usr/local/lib/python3.11/dist-packages (from wandb) (0.4.0)\n",
            "Requirement already satisfied: gitpython!=3.1.29,>=1.0.0 in /usr/local/lib/python3.11/dist-packages (from wandb) (3.1.44)\n",
            "Requirement already satisfied: platformdirs in /usr/local/lib/python3.11/dist-packages (from wandb) (4.3.8)\n",
            "Requirement already satisfied: protobuf!=4.21.0,!=5.28.0,<7,>=3.19.0 in /usr/local/lib/python3.11/dist-packages (from wandb) (5.29.4)\n",
            "Requirement already satisfied: psutil>=5.0.0 in /usr/local/lib/python3.11/dist-packages (from wandb) (5.9.5)\n",
            "Requirement already satisfied: pydantic<3 in /usr/local/lib/python3.11/dist-packages (from wandb) (2.11.4)\n",
            "Requirement already satisfied: pyyaml in /usr/local/lib/python3.11/dist-packages (from wandb) (6.0.2)\n",
            "Requirement already satisfied: requests<3,>=2.0.0 in /usr/local/lib/python3.11/dist-packages (from wandb) (2.32.3)\n",
            "Requirement already satisfied: sentry-sdk>=2.0.0 in /usr/local/lib/python3.11/dist-packages (from wandb) (2.29.1)\n",
            "Requirement already satisfied: setproctitle in /usr/local/lib/python3.11/dist-packages (from wandb) (1.3.6)\n",
            "Requirement already satisfied: setuptools in /usr/local/lib/python3.11/dist-packages (from wandb) (75.2.0)\n",
            "Requirement already satisfied: typing-extensions<5,>=4.4 in /usr/local/lib/python3.11/dist-packages (from wandb) (4.13.2)\n",
            "Requirement already satisfied: six>=1.4.0 in /usr/local/lib/python3.11/dist-packages (from docker-pycreds>=0.4.0->wandb) (1.17.0)\n",
            "Requirement already satisfied: gitdb<5,>=4.0.1 in /usr/local/lib/python3.11/dist-packages (from gitpython!=3.1.29,>=1.0.0->wandb) (4.0.12)\n",
            "Requirement already satisfied: annotated-types>=0.6.0 in /usr/local/lib/python3.11/dist-packages (from pydantic<3->wandb) (0.7.0)\n",
            "Requirement already satisfied: pydantic-core==2.33.2 in /usr/local/lib/python3.11/dist-packages (from pydantic<3->wandb) (2.33.2)\n",
            "Requirement already satisfied: typing-inspection>=0.4.0 in /usr/local/lib/python3.11/dist-packages (from pydantic<3->wandb) (0.4.1)\n",
            "Requirement already satisfied: charset-normalizer<4,>=2 in /usr/local/lib/python3.11/dist-packages (from requests<3,>=2.0.0->wandb) (3.4.2)\n",
            "Requirement already satisfied: idna<4,>=2.5 in /usr/local/lib/python3.11/dist-packages (from requests<3,>=2.0.0->wandb) (3.10)\n",
            "Requirement already satisfied: urllib3<3,>=1.21.1 in /usr/local/lib/python3.11/dist-packages (from requests<3,>=2.0.0->wandb) (2.4.0)\n",
            "Requirement already satisfied: certifi>=2017.4.17 in /usr/local/lib/python3.11/dist-packages (from requests<3,>=2.0.0->wandb) (2025.4.26)\n",
            "Requirement already satisfied: smmap<6,>=3.0.1 in /usr/local/lib/python3.11/dist-packages (from gitdb<5,>=4.0.1->gitpython!=3.1.29,>=1.0.0->wandb) (5.0.2)\n",
            "Collecting ndjson\n",
            "  Downloading ndjson-0.3.1-py2.py3-none-any.whl.metadata (3.2 kB)\n",
            "Downloading ndjson-0.3.1-py2.py3-none-any.whl (5.3 kB)\n",
            "Installing collected packages: ndjson\n",
            "Successfully installed ndjson-0.3.1\n",
            "Collecting optuna\n",
            "  Downloading optuna-4.3.0-py3-none-any.whl.metadata (17 kB)\n",
            "Collecting alembic>=1.5.0 (from optuna)\n",
            "  Downloading alembic-1.16.1-py3-none-any.whl.metadata (7.3 kB)\n",
            "Collecting colorlog (from optuna)\n",
            "  Downloading colorlog-6.9.0-py3-none-any.whl.metadata (10 kB)\n",
            "Requirement already satisfied: numpy in /usr/local/lib/python3.11/dist-packages (from optuna) (2.0.2)\n",
            "Requirement already satisfied: packaging>=20.0 in /usr/local/lib/python3.11/dist-packages (from optuna) (24.2)\n",
            "Requirement already satisfied: sqlalchemy>=1.4.2 in /usr/local/lib/python3.11/dist-packages (from optuna) (2.0.41)\n",
            "Requirement already satisfied: tqdm in /usr/local/lib/python3.11/dist-packages (from optuna) (4.67.1)\n",
            "Requirement already satisfied: PyYAML in /usr/local/lib/python3.11/dist-packages (from optuna) (6.0.2)\n",
            "Requirement already satisfied: Mako in /usr/lib/python3/dist-packages (from alembic>=1.5.0->optuna) (1.1.3)\n",
            "Requirement already satisfied: typing-extensions>=4.12 in /usr/local/lib/python3.11/dist-packages (from alembic>=1.5.0->optuna) (4.13.2)\n",
            "Requirement already satisfied: greenlet>=1 in /usr/local/lib/python3.11/dist-packages (from sqlalchemy>=1.4.2->optuna) (3.2.2)\n",
            "Downloading optuna-4.3.0-py3-none-any.whl (386 kB)\n",
            "\u001b[2K   \u001b[90m━━━━━━━━━━━━━━━━━━━━━━━━━━━━━━━━━━━━━━━━\u001b[0m \u001b[32m386.6/386.6 kB\u001b[0m \u001b[31m25.9 MB/s\u001b[0m eta \u001b[36m0:00:00\u001b[0m\n",
            "\u001b[?25hDownloading alembic-1.16.1-py3-none-any.whl (242 kB)\n",
            "\u001b[2K   \u001b[90m━━━━━━━━━━━━━━━━━━━━━━━━━━━━━━━━━━━━━━━━\u001b[0m \u001b[32m242.5/242.5 kB\u001b[0m \u001b[31m20.9 MB/s\u001b[0m eta \u001b[36m0:00:00\u001b[0m\n",
            "\u001b[?25hDownloading colorlog-6.9.0-py3-none-any.whl (11 kB)\n",
            "Installing collected packages: colorlog, alembic, optuna\n",
            "Successfully installed alembic-1.16.1 colorlog-6.9.0 optuna-4.3.0\n"
          ]
        }
      ],
      "source": [
        "!pip install wandb\n",
        "import json\n",
        "!pip install ndjson\n",
        "!mkdir -p quickdraw_data\n",
        "import os\n",
        "import wandb\n",
        "import ndjson\n",
        "import numpy as np\n",
        "import pandas as pd\n",
        "!pip install optuna\n",
        "import optuna\n",
        "\n",
        "import torch\n",
        "from sklearn.model_selection import train_test_split\n",
        "from sklearn.preprocessing import LabelEncoder\n",
        "from torch.utils.data import TensorDataset, DataLoader, Dataset\n",
        "from tensorflow.keras.models import Sequential\n",
        "from tensorflow.keras.layers import Dense, Conv2D, MaxPooling2D, Flatten\n",
        "from tensorflow.keras.utils import to_categorical\n",
        "\n",
        "import torch.nn as nn\n",
        "import torch.nn.functional as F\n",
        "import torch.optim as optim\n",
        "from torchvision import transforms\n",
        "\n",
        "import matplotlib.pyplot as plt\n",
        "from PIL import Image, ImageDraw\n",
        "\n",
        "import cv2\n",
        "\n",
        "\n",
        "device = torch.device(\"cuda\" if torch.cuda.is_available() else \"cpu\")"
      ]
    },
    {
      "cell_type": "code",
      "execution_count": null,
      "metadata": {
        "colab": {
          "base_uri": "https://localhost:8080/"
        },
        "id": "80KtH_ay7P5p",
        "outputId": "98f5003a-a96e-4bc9-b560-6ab66597d219"
      },
      "outputs": [
        {
          "output_type": "stream",
          "name": "stdout",
          "text": [
            "Téléchargement : ship\n",
            "Téléchargement : bird\n",
            "Téléchargement : camel\n",
            "Téléchargement : cat\n",
            "Téléchargement : dolphin\n",
            "Téléchargement : crab\n",
            "Téléchargement : fish\n",
            "Téléchargement : flamingo\n",
            "Téléchargement : hedgehog\n",
            "Téléchargement : raccoon\n",
            "Téléchargement : lion\n",
            "Téléchargement : octopus\n",
            "Téléchargement : whale\n",
            "Téléchargement : shark\n",
            "Téléchargement : rhinoceros\n",
            "Téléchargement : rabbit\n",
            "Téléchargement : pig\n",
            "Téléchargement : crocodile\n",
            "Téléchargement : cow\n",
            "Téléchargement : elephant\n",
            "Téléchargement : alarm%20clock\n",
            "Téléchargement : anvil\n",
            "^C\n",
            "Téléchargement : axe\n",
            "^C\n",
            "Téléchargement : backpack\n",
            "Téléchargement : baseball%20bat\n"
          ]
        }
      ],
      "source": [
        "# Les 10 premières catégories disponibles dans le dataset\n",
        "categories = [\n",
        "    # Animaux\n",
        "    \"ship\",\n",
        "    \"bird\",\n",
        "    \"camel\",\n",
        "    \"cat\",\n",
        "    \"dolphin\",\n",
        "    \"crab\",\n",
        "    \"fish\",\n",
        "    \"flamingo\",\n",
        "    \"hedgehog\",\n",
        "    \"raccoon\",\n",
        "    \"lion\",\n",
        "    \"octopus\",\n",
        "    \"whale\",\n",
        "    \"shark\",\n",
        "    \"rhinoceros\",\n",
        "    \"rabbit\",\n",
        "    \"pig\",\n",
        "    \"crocodile\",\n",
        "    \"cow\",\n",
        "    \"elephant\",\n",
        "\n",
        "    # Objets\n",
        "    \"alarm%20clock\",\n",
        "    \"anvil\",\n",
        "    \"axe\",\n",
        "    \"backpack\",\n",
        "    \"baseball%20bat\",\n",
        "    \"bed\",\n",
        "    \"belt\",\n",
        "    \"bicycle\",\n",
        "    \"cell%20phone\",\n",
        "    \"flip%20flops\",\n",
        "    \"headphones\",\n",
        "    \"tshirt\",\n",
        "    \"flower\",\n",
        "    \"eyeglasses\",\n",
        "    \"harp\",\n",
        "    \"hexagon\",\n",
        "    \"key\",\n",
        "    \"ladder\",\n",
        "    \"knife\",\n",
        "    \"fork\",\n",
        "\n",
        "    # Aliments\n",
        "    \"apple\",\n",
        "    \"banana\",\n",
        "    \"birthday%20cake\",\n",
        "    \"blueberry\",\n",
        "    \"bread\",\n",
        "    \"broccoli\",\n",
        "    \"carrot\",\n",
        "    \"cookie\",\n",
        "    \"donut\",\n",
        "    \"grapes\",\n",
        "    \"hamburger\",\n",
        "    \"hot%20dog\",\n",
        "    \"ice%20cream\",\n",
        "    \"lollipop\",\n",
        "    \"mushroom\",\n",
        "    \"pear\",\n",
        "    \"pineapple\",\n",
        "    \"pizza\",\n",
        "    \"strawberry\",\n",
        "    \"watermelon\",\n",
        "]\n",
        "\n",
        "# Création du dossier de données\n",
        "os.makedirs(\"quickdraw_data\", exist_ok=True)\n",
        "\n",
        "# Téléchargement automatique via wget\n",
        "for category in categories:\n",
        "    url = f\"https://storage.googleapis.com/quickdraw_dataset/full/simplified/{category}.ndjson\"\n",
        "    filename = f\"quickdraw_data/{category}.ndjson\"\n",
        "    if not os.path.exists(filename):\n",
        "        print(f\"Téléchargement : {category}\")\n",
        "        !wget -q -O {filename} {url}\n",
        "    else:\n",
        "        print(f\"Déjà téléchargé : {category}\")\n"
      ]
    },
    {
      "cell_type": "code",
      "execution_count": null,
      "metadata": {
        "colab": {
          "base_uri": "https://localhost:8080/"
        },
        "id": "SdM9eTOIqTIV",
        "outputId": "6e312d0c-f357-4232-a3ac-6dd02d1b7953"
      },
      "outputs": [
        {
          "output_type": "stream",
          "name": "stdout",
          "text": [
            "cuda\n"
          ]
        }
      ],
      "source": [
        "print(device)"
      ]
    },
    {
      "cell_type": "code",
      "execution_count": null,
      "metadata": {
        "id": "XVbfuvjK7a4g",
        "colab": {
          "base_uri": "https://localhost:8080/"
        },
        "outputId": "2811f8ac-ba75-477e-e332-8e642192a14b"
      },
      "outputs": [
        {
          "output_type": "stream",
          "name": "stdout",
          "text": [
            "Total images : (190000, 28, 28)\n",
            "Total labels : (190000,)\n"
          ]
        }
      ],
      "source": [
        "#Parser et convertir les 1000 premiers dessins reconnus des 10 catégories déjà téléchargées (en .ndjson)\n",
        "# en images 28x28, et les stocker dans deux arrays : images (numpy) et labels (str).\n",
        "\n",
        "# Fonction pour convertir un dessin (strokes) en image PIL 28x28\n",
        "def draw_strokes(drawing, size=28, lw=3):\n",
        "    img = Image.new(\"L\", (256, 256), color=0)  # 256x256 pour avoir de la marge\n",
        "    draw = ImageDraw.Draw(img)\n",
        "\n",
        "    for stroke in drawing:\n",
        "        points = list(zip(stroke[0], stroke[1]))\n",
        "        draw.line(points, fill=255, width=lw)\n",
        "\n",
        "    img = img.resize((size, size), Image.Resampling.LANCZOS)\n",
        "    return np.array(img)\n",
        "\n",
        "\n",
        "\n",
        "def dilate_image(img, kernel_size=2, iterations=1):\n",
        "    kernel = np.ones((kernel_size, kernel_size), np.uint8)\n",
        "    return cv2.dilate(img, kernel, iterations=iterations)\n",
        "\n",
        "def erode_image(img, kernel_size=2, iterations=1):\n",
        "    kernel = np.ones((kernel_size, kernel_size), np.uint8)\n",
        "    return cv2.erode(img, kernel, iterations=iterations)\n",
        "\n",
        "\n",
        "# Parser et convertir les 100 premiers dessins reconnus\n",
        "images = []\n",
        "labels = []\n",
        "\n",
        "for category in categories:\n",
        "    path = f\"quickdraw_data/{category}.ndjson\"\n",
        "    try:\n",
        "        with open(path) as f:\n",
        "            data = ndjson.load(f)\n",
        "    except FileNotFoundError:\n",
        "        print(f\"Fichier manquant pour {category}, ignoré.\")\n",
        "        continue\n",
        "\n",
        "    count = 0\n",
        "    for sample in data:\n",
        "        if sample[\"recognized\"]:\n",
        "            img = draw_strokes(sample[\"drawing\"])\n",
        "            images.append(img)\n",
        "            labels.append(category)\n",
        "            count += 1\n",
        "        if count >= 10000:  # Load 1000 samples per category\n",
        "            break\n",
        "\n",
        "images = np.array(images)\n",
        "labels = np.array(labels)\n",
        "\n",
        "print(\"Total images :\", images.shape)\n",
        "print(\"Total labels :\", labels.shape)"
      ]
    },
    {
      "cell_type": "code",
      "execution_count": null,
      "metadata": {
        "id": "SQ_tlWbFJ6jv",
        "colab": {
          "base_uri": "https://localhost:8080/"
        },
        "outputId": "b730d4c6-dc94-4866-fdc2-22e8d2e01cc2"
      },
      "outputs": [
        {
          "output_type": "stream",
          "name": "stdout",
          "text": [
            "Collecting comet_ml\n",
            "  Downloading comet_ml-3.49.10-py3-none-any.whl.metadata (4.1 kB)\n",
            "Collecting dulwich!=0.20.33,>=0.20.6 (from comet_ml)\n",
            "  Downloading dulwich-0.22.8-cp311-cp311-manylinux_2_17_x86_64.manylinux2014_x86_64.whl.metadata (4.9 kB)\n",
            "Collecting everett<3.2.0,>=1.0.1 (from everett[ini]<3.2.0,>=1.0.1->comet_ml)\n",
            "  Downloading everett-3.1.0-py2.py3-none-any.whl.metadata (17 kB)\n",
            "Requirement already satisfied: jsonschema!=3.1.0,>=2.6.0 in /usr/local/lib/python3.11/dist-packages (from comet_ml) (4.23.0)\n",
            "Requirement already satisfied: psutil>=5.6.3 in /usr/local/lib/python3.11/dist-packages (from comet_ml) (5.9.5)\n",
            "Collecting python-box<7.0.0 (from comet_ml)\n",
            "  Downloading python_box-6.1.0-cp311-cp311-manylinux_2_17_x86_64.manylinux2014_x86_64.whl.metadata (7.8 kB)\n",
            "Requirement already satisfied: requests-toolbelt>=0.8.0 in /usr/local/lib/python3.11/dist-packages (from comet_ml) (1.0.0)\n",
            "Requirement already satisfied: requests>=2.18.4 in /usr/local/lib/python3.11/dist-packages (from comet_ml) (2.32.3)\n",
            "Requirement already satisfied: rich>=13.3.2 in /usr/local/lib/python3.11/dist-packages (from comet_ml) (13.9.4)\n",
            "Collecting semantic-version>=2.8.0 (from comet_ml)\n",
            "  Downloading semantic_version-2.10.0-py2.py3-none-any.whl.metadata (9.7 kB)\n",
            "Requirement already satisfied: sentry-sdk>=1.1.0 in /usr/local/lib/python3.11/dist-packages (from comet_ml) (2.28.0)\n",
            "Requirement already satisfied: simplejson in /usr/local/lib/python3.11/dist-packages (from comet_ml) (3.20.1)\n",
            "Requirement already satisfied: urllib3>=1.21.1 in /usr/local/lib/python3.11/dist-packages (from comet_ml) (2.4.0)\n",
            "Requirement already satisfied: wrapt>=1.11.2 in /usr/local/lib/python3.11/dist-packages (from comet_ml) (1.17.2)\n",
            "Requirement already satisfied: wurlitzer>=1.0.2 in /usr/local/lib/python3.11/dist-packages (from comet_ml) (3.1.1)\n",
            "Collecting configobj (from everett[ini]<3.2.0,>=1.0.1->comet_ml)\n",
            "  Downloading configobj-5.0.9-py2.py3-none-any.whl.metadata (3.2 kB)\n",
            "Requirement already satisfied: attrs>=22.2.0 in /usr/local/lib/python3.11/dist-packages (from jsonschema!=3.1.0,>=2.6.0->comet_ml) (25.3.0)\n",
            "Requirement already satisfied: jsonschema-specifications>=2023.03.6 in /usr/local/lib/python3.11/dist-packages (from jsonschema!=3.1.0,>=2.6.0->comet_ml) (2025.4.1)\n",
            "Requirement already satisfied: referencing>=0.28.4 in /usr/local/lib/python3.11/dist-packages (from jsonschema!=3.1.0,>=2.6.0->comet_ml) (0.36.2)\n",
            "Requirement already satisfied: rpds-py>=0.7.1 in /usr/local/lib/python3.11/dist-packages (from jsonschema!=3.1.0,>=2.6.0->comet_ml) (0.24.0)\n",
            "Requirement already satisfied: charset-normalizer<4,>=2 in /usr/local/lib/python3.11/dist-packages (from requests>=2.18.4->comet_ml) (3.4.2)\n",
            "Requirement already satisfied: idna<4,>=2.5 in /usr/local/lib/python3.11/dist-packages (from requests>=2.18.4->comet_ml) (3.10)\n",
            "Requirement already satisfied: certifi>=2017.4.17 in /usr/local/lib/python3.11/dist-packages (from requests>=2.18.4->comet_ml) (2025.4.26)\n",
            "Requirement already satisfied: markdown-it-py>=2.2.0 in /usr/local/lib/python3.11/dist-packages (from rich>=13.3.2->comet_ml) (3.0.0)\n",
            "Requirement already satisfied: pygments<3.0.0,>=2.13.0 in /usr/local/lib/python3.11/dist-packages (from rich>=13.3.2->comet_ml) (2.19.1)\n",
            "Requirement already satisfied: mdurl~=0.1 in /usr/local/lib/python3.11/dist-packages (from markdown-it-py>=2.2.0->rich>=13.3.2->comet_ml) (0.1.2)\n",
            "Requirement already satisfied: typing-extensions>=4.4.0 in /usr/local/lib/python3.11/dist-packages (from referencing>=0.28.4->jsonschema!=3.1.0,>=2.6.0->comet_ml) (4.13.2)\n",
            "Downloading comet_ml-3.49.10-py3-none-any.whl (727 kB)\n",
            "\u001b[2K   \u001b[90m━━━━━━━━━━━━━━━━━━━━━━━━━━━━━━━━━━━━━━━━\u001b[0m \u001b[32m727.1/727.1 kB\u001b[0m \u001b[31m17.1 MB/s\u001b[0m eta \u001b[36m0:00:00\u001b[0m\n",
            "\u001b[?25hDownloading dulwich-0.22.8-cp311-cp311-manylinux_2_17_x86_64.manylinux2014_x86_64.whl (1.0 MB)\n",
            "\u001b[2K   \u001b[90m━━━━━━━━━━━━━━━━━━━━━━━━━━━━━━━━━━━━━━━━\u001b[0m \u001b[32m1.0/1.0 MB\u001b[0m \u001b[31m52.6 MB/s\u001b[0m eta \u001b[36m0:00:00\u001b[0m\n",
            "\u001b[?25hDownloading everett-3.1.0-py2.py3-none-any.whl (35 kB)\n",
            "Downloading python_box-6.1.0-cp311-cp311-manylinux_2_17_x86_64.manylinux2014_x86_64.whl (3.5 MB)\n",
            "\u001b[2K   \u001b[90m━━━━━━━━━━━━━━━━━━━━━━━━━━━━━━━━━━━━━━━━\u001b[0m \u001b[32m3.5/3.5 MB\u001b[0m \u001b[31m107.5 MB/s\u001b[0m eta \u001b[36m0:00:00\u001b[0m\n",
            "\u001b[?25hDownloading semantic_version-2.10.0-py2.py3-none-any.whl (15 kB)\n",
            "Downloading configobj-5.0.9-py2.py3-none-any.whl (35 kB)\n",
            "Installing collected packages: everett, semantic-version, python-box, dulwich, configobj, comet_ml\n",
            "  Attempting uninstall: python-box\n",
            "    Found existing installation: python-box 7.3.2\n",
            "    Uninstalling python-box-7.3.2:\n",
            "      Successfully uninstalled python-box-7.3.2\n",
            "Successfully installed comet_ml-3.49.10 configobj-5.0.9 dulwich-0.22.8 everett-3.1.0 python-box-6.1.0 semantic-version-2.10.0\n"
          ]
        },
        {
          "output_type": "stream",
          "name": "stderr",
          "text": [
            "\u001b[1;38;5;214mCOMET WARNING:\u001b[0m To get all data logged automatically, import comet_ml before the following modules: tensorflow, torch, keras, sklearn.\n",
            "\u001b[1;38;5;214mCOMET WARNING:\u001b[0m As you are running in a Jupyter environment, you will need to call `experiment.end()` when finished to ensure all metrics and code are logged before exiting.\n",
            "\u001b[1;38;5;39mCOMET INFO:\u001b[0m Experiment is live on comet.com https://www.comet.com/judale/gribouillon/cc387a96cf9f4cb0a4ba9a264c600e34\n",
            "\n"
          ]
        }
      ],
      "source": [
        "!pip install comet_ml\n",
        "from comet_ml import Experiment\n",
        "from comet_ml.integration.pytorch import log_model\n",
        "\n",
        "experiment = Experiment(\n",
        "    api_key=\"zaG3cbShNIuBY5f3JXvcTMNJa\",\n",
        "    project_name=\"gribouillon\",\n",
        "    workspace=\"judale\"\n",
        ")\n",
        "from datetime import datetime"
      ]
    },
    {
      "cell_type": "markdown",
      "metadata": {
        "id": "7i3sKsy0qTIV"
      },
      "source": [
        "# visualisations des fonctions d'érosions et dilatations"
      ]
    },
    {
      "cell_type": "code",
      "execution_count": null,
      "metadata": {
        "id": "hT3owV7VqTIW",
        "colab": {
          "base_uri": "https://localhost:8080/",
          "height": 379
        },
        "outputId": "1e67dd12-3296-40bc-9169-3f27b2fa4d49"
      },
      "outputs": [
        {
          "output_type": "display_data",
          "data": {
            "text/plain": [
              "<Figure size 1200x400 with 3 Axes>"
            ],
            "image/png": "[encoded data removed]"
          },
          "metadata": {}
        }
      ],
      "source": [
        "import random\n",
        "\n",
        "\n",
        "# Image originale\n",
        "idx = random.randint(0, len(images) - 1)\n",
        "original = images[idx]\n",
        "\n",
        "# Application de la dilatation et de l’érosion\n",
        "dilated = dilate_image(original, kernel_size=2)\n",
        "eroded  = erode_image(original, kernel_size=2)\n",
        "\n",
        "# Affichage\n",
        "fig, axs = plt.subplots(1, 3, figsize=(12, 4))\n",
        "axs[0].imshow(original, cmap='gray')\n",
        "axs[0].set_title('Original')\n",
        "axs[1].imshow(dilated, cmap='gray')\n",
        "axs[1].set_title('Dilatée')\n",
        "axs[2].imshow(eroded, cmap='gray')\n",
        "axs[2].set_title('Érodée')\n",
        "for ax in axs:\n",
        "    ax.axis('off')\n",
        "plt.tight_layout()\n",
        "plt.show()\n"
      ]
    },
    {
      "cell_type": "code",
      "execution_count": null,
      "metadata": {
        "id": "t6I5xNdN7y_L",
        "colab": {
          "base_uri": "https://localhost:8080/",
          "height": 428
        },
        "outputId": "0ae33f53-fdbc-432f-cb8b-9dee9e1a52dd"
      },
      "outputs": [
        {
          "output_type": "display_data",
          "data": {
            "text/plain": [
              "<Figure size 640x480 with 1 Axes>"
            ],
            "image/png": "[encoded data removed]"
          },
          "metadata": {}
        }
      ],
      "source": [
        "#Visualisez une image random\n",
        "import random\n",
        "\n",
        "idx = random.randint(0, len(images) - 1)\n",
        "plt.imshow(images[idx], cmap=\"gray\")\n",
        "plt.title(labels[idx])\n",
        "plt.axis(\"off\")\n",
        "plt.show()"
      ]
    },
    {
      "cell_type": "code",
      "execution_count": null,
      "metadata": {
        "id": "yxLJTUID9yFp",
        "colab": {
          "base_uri": "https://localhost:8080/"
        },
        "outputId": "5825c864-d37f-4f23-f90e-e66c9435e161"
      },
      "outputs": [
        {
          "output_type": "stream",
          "name": "stdout",
          "text": [
            "Catégories encodées : [np.str_('bird'), np.str_('camel'), np.str_('cat'), np.str_('cow'), np.str_('crab'), np.str_('crocodile'), np.str_('dolphin'), np.str_('elephant'), np.str_('fish'), np.str_('flamingo'), np.str_('hedgehog'), np.str_('lion'), np.str_('octopus'), np.str_('pig'), np.str_('rabbit'), np.str_('raccoon'), np.str_('rhinoceros'), np.str_('shark'), np.str_('whale')]\n",
            "Nombre de classes : 19\n",
            "Données prêtes pour l'entraînement.\n"
          ]
        }
      ],
      "source": [
        "# Normalisation : on ramène les valeurs des pixels entre 0 et 1\n",
        "images = images.astype(\"float32\") / 255.0\n",
        "images = np.expand_dims(images, axis=1)  # PyTorch : (N, 1, 28, 28)\n",
        "\n",
        "# Encodage des labels (ex: 'cat' -> 3, 'dog' -> 5, etc.)\n",
        "label_encoder = LabelEncoder()\n",
        "labels_encoded = label_encoder.fit_transform(labels)\n",
        "\n",
        "print(\"Catégories encodées :\", list(label_encoder.classes_))\n",
        "print(\"Nombre de classes :\", len(label_encoder.classes_))\n",
        "\n",
        "\n",
        "# Split des données\n",
        "X_train, X_temp, y_train, y_temp = train_test_split(images, labels_encoded, test_size=0.2, stratify=labels_encoded, random_state=42)\n",
        "X_val, X_test, y_val, y_test = train_test_split(X_temp, y_temp, test_size=0.5, stratify=y_temp, random_state=42)\n",
        "\n",
        "# Conversion en tenseurs\n",
        "X_train = torch.tensor(X_train)\n",
        "X_val   = torch.tensor(X_val)\n",
        "X_test  = torch.tensor(X_test)\n",
        "\n",
        "y_train = torch.tensor(y_train)\n",
        "y_val   = torch.tensor(y_val)\n",
        "y_test  = torch.tensor(y_test)\n",
        "\n",
        "# Création des datasets\n",
        "train_dataset = TensorDataset(X_train, y_train)\n",
        "val_dataset   = TensorDataset(X_val, y_val)\n",
        "test_dataset  = TensorDataset(X_test, y_test)\n",
        "\n",
        "# Création des DataLoaders\n",
        "batch_size = 64\n",
        "train_loader = DataLoader(train_dataset, batch_size=batch_size, shuffle=True)\n",
        "val_loader   = DataLoader(val_dataset, batch_size=batch_size)\n",
        "test_loader  = DataLoader(test_dataset, batch_size=batch_size)\n",
        "\n",
        "print(\"Données prêtes pour l'entraînement.\")\n",
        "\n",
        "#On a 8 classes alors qu'on devrait en avoir 10 il faut donc prendre la variable \"classes\" dans le modèle CNN pour être sûr de ne pas avoir des classes des fichiers .ndjson sont en erreur"
      ]
    },
    {
      "cell_type": "code",
      "execution_count": null,
      "metadata": {
        "id": "ywxs8oAM_mkt"
      },
      "outputs": [],
      "source": [
        "# CNN simple avec PyTorch, inspiré de LeNet-5, adapté aux images 28×28 en niveaux de gris\n",
        "class BetterCNN(nn.Module):\n",
        "    def __init__(self, num_classes):\n",
        "        super(BetterCNN, self).__init__()\n",
        "        self.features = nn.Sequential(\n",
        "            nn.Conv2d(1, 32, kernel_size=3, padding=1),  # (1, 28, 28) -> (32, 28, 28)\n",
        "            nn.BatchNorm2d(32),\n",
        "            nn.ReLU(),\n",
        "            nn.Conv2d(32, 32, kernel_size=3, padding=1),  # (32, 28, 28)\n",
        "            nn.BatchNorm2d(32),\n",
        "            nn.ReLU(),\n",
        "            nn.MaxPool2d(2),  # (32, 14, 14)\n",
        "            nn.Dropout(0.3),\n",
        "\n",
        "            nn.Conv2d(32, 64, kernel_size=3, padding=1),  # (64, 14, 14)\n",
        "            nn.BatchNorm2d(64),\n",
        "            nn.ReLU(),\n",
        "            nn.Conv2d(64, 64, kernel_size=3, padding=1),  # (64, 14, 14)\n",
        "            nn.BatchNorm2d(64),\n",
        "            nn.ReLU(),\n",
        "            nn.MaxPool2d(2),  # (64, 7, 7)\n",
        "            nn.Dropout(0.3006002871157536),\n",
        "        )\n",
        "\n",
        "        self.classifier = nn.Sequential(\n",
        "            nn.Flatten(),\n",
        "            nn.Linear(64 * 7 * 7, 128),\n",
        "            nn.BatchNorm1d(128),\n",
        "            nn.ReLU(),\n",
        "            nn.Dropout(0.3006002871157536),\n",
        "            nn.Linear(128, num_classes)\n",
        "        )\n",
        "\n",
        "    def forward(self, x):\n",
        "        x = self.features(x)\n",
        "        x = self.classifier(x)\n",
        "        return x\n",
        "\n",
        "\n",
        "model = BetterCNN(num_classes=len(label_encoder.classes_))"
      ]
    },
    {
      "cell_type": "code",
      "execution_count": null,
      "metadata": {
        "id": "vFWXovPzAKQQ"
      },
      "outputs": [],
      "source": [
        "# Transforme les tableaux images et labels en un Dataset PyTorch, puis les séparer en train, val et test\n",
        "\n",
        "class QuickDrawDataset(Dataset):\n",
        "    def __init__(self, images, labels, transform=None):\n",
        "        self.images = images\n",
        "        self.labels = labels\n",
        "        self.transform = transforms.Compose([\n",
        "               transforms.ToPILImage(),\n",
        "               transforms.RandomRotation(10),  # Rotation aléatoire de 10 degrés\n",
        "               transforms.RandomAffine(degrees=0, translate=(0.1, 0.1)),  # Translation aléatoire\n",
        "               transforms.ToTensor()\n",
        "           ])\n",
        "\n",
        "    def __len__(self):\n",
        "        return len(self.images)\n",
        "\n",
        "    def __getitem__(self, idx):\n",
        "        image = self.images[idx]\n",
        "        label = self.labels[idx]\n",
        "\n",
        "        # The line below was causing the problem\n",
        "        # image = torch.tensor(image).unsqueeze(0)  # Shape: (1, 28, 28)\n",
        "        # We already have (1, 28, 28) from previous opera*=tions\n",
        "        image = torch.tensor(image)  # Keep the original image shape (1, 28, 28)\n",
        "        label = torch.tensor(label).long()\n",
        "\n",
        "        if self.transform:\n",
        "            image = self.transform(image)\n",
        "\n",
        "        return image, label\n"
      ]
    },
    {
      "cell_type": "code",
      "execution_count": null,
      "metadata": {
        "id": "UeF-yfilBEaQ",
        "colab": {
          "base_uri": "https://localhost:8080/"
        },
        "outputId": "dfe05f85-f6de-4f49-80f9-37bce22df279"
      },
      "outputs": [
        {
          "output_type": "stream",
          "name": "stdout",
          "text": [
            "Train: 152000, Val: 19000, Test: 19000\n"
          ]
        }
      ],
      "source": [
        "# Séparation train/val/test\n",
        "\n",
        "# Encodage des labels texte en entiers\n",
        "label_encoder = LabelEncoder()\n",
        "y_encoded = label_encoder.fit_transform(labels)\n",
        "\n",
        "# Split 80% train, 10% val, 10% test\n",
        "# Use labels_np instead of labels_encoded for stratify\n",
        "X_train, X_temp, y_train, y_temp = train_test_split(images, y_encoded, test_size=0.2, random_state=42, stratify=y_encoded)\n",
        "X_val, X_test, y_val, y_test = train_test_split(X_temp, y_temp, test_size=0.5, random_state=42, stratify=y_temp)\n",
        "\n",
        "print(f\"Train: {len(X_train)}, Val: {len(X_val)}, Test: {len(X_test)}\")"
      ]
    },
    {
      "cell_type": "code",
      "execution_count": null,
      "metadata": {
        "id": "X27i2FyDBT33"
      },
      "outputs": [],
      "source": [
        "# Création des DataLoader\n",
        "batch_size = 64\n",
        "\n",
        "train_dataset = QuickDrawDataset(X_train, y_train)\n",
        "val_dataset = QuickDrawDataset(X_val, y_val)\n",
        "test_dataset = QuickDrawDataset(X_test, y_test)\n",
        "\n",
        "train_loader = DataLoader(train_dataset, batch_size=batch_size, shuffle=True)\n",
        "val_loader = DataLoader(val_dataset, batch_size=batch_size)\n",
        "test_loader = DataLoader(test_dataset, batch_size=batch_size)"
      ]
    },
    {
      "cell_type": "code",
      "execution_count": null,
      "metadata": {
        "id": "MBNiH-E9Bd1K"
      },
      "outputs": [],
      "source": [
        "# Initialisation de l’entraînement - Définir modèle, loss et optimizer\n",
        "model = BetterCNN(num_classes=len(label_encoder.classes_)).to(device)\n",
        "criterion = nn.CrossEntropyLoss()\n",
        "optimizer = optim.Adam(model.parameters(), lr=0.001, weight_decay=1e-5) # L2 regularization\n",
        "scheduler = optim.lr_scheduler.ReduceLROnPlateau(optimizer, 'min', patience=1)  # Reduce LR if val loss plateaus"
      ]
    },
    {
      "cell_type": "code",
      "execution_count": null,
      "metadata": {
        "id": "5cjOXZxmBxMx"
      },
      "outputs": [],
      "source": [
        "# Intégration avec Weights & Biases - Initialisation comet\n",
        "\n",
        "lr=0.001\n",
        "num_epochs = 50\n",
        "\n",
        "experiment.set_name(f\"Modèle classe animaux\")\n",
        "\n",
        "experiment.log_parameters({\n",
        "    \"learning_rate\": lr,\n",
        "    \"batch_size\": batch_size,\n",
        "    \"epochs\": num_epochs,\n",
        "    \"num_classes\": len(set(labels))\n",
        "})"
      ]
    },
    {
      "cell_type": "code",
      "execution_count": null,
      "metadata": {
        "colab": {
          "base_uri": "https://localhost:8080/"
        },
        "id": "PcCmcsz9CrVB",
        "outputId": "06947a5c-09ed-4ef1-ae05-0eb378bb6a6d"
      },
      "outputs": [
        {
          "output_type": "stream",
          "name": "stdout",
          "text": [
            "[1/20] Train Acc: 60.25% | Val Acc: 73.23%\n",
            "[2/20] Train Acc: 70.36% | Val Acc: 77.45%\n",
            "[3/20] Train Acc: 73.11% | Val Acc: 78.83%\n",
            "[4/20] Train Acc: 74.86% | Val Acc: 80.10%\n",
            "[5/20] Train Acc: 75.69% | Val Acc: 81.19%\n",
            "[6/20] Train Acc: 76.39% | Val Acc: 81.67%\n",
            "[7/20] Train Acc: 76.96% | Val Acc: 82.34%\n",
            "[8/20] Train Acc: 77.53% | Val Acc: 82.57%\n",
            "[9/20] Train Acc: 77.87% | Val Acc: 83.12%\n",
            "[10/20] Train Acc: 78.31% | Val Acc: 82.82%\n",
            "[11/20] Train Acc: 78.51% | Val Acc: 83.31%\n",
            "[12/20] Train Acc: 78.84% | Val Acc: 83.18%\n",
            "[13/20] Train Acc: 79.03% | Val Acc: 83.32%\n",
            "[14/20] Train Acc: 79.02% | Val Acc: 83.47%\n",
            "[15/20] Train Acc: 79.42% | Val Acc: 83.92%\n",
            "[16/20] Train Acc: 79.47% | Val Acc: 84.06%\n",
            "[17/20] Train Acc: 79.59% | Val Acc: 83.72%\n",
            "[18/20] Train Acc: 79.76% | Val Acc: 84.31%\n",
            "[19/20] Train Acc: 79.93% | Val Acc: 84.20%\n",
            "[20/20] Train Acc: 80.21% | Val Acc: 84.11%\n",
            "Early stopping.\n"
          ]
        }
      ],
      "source": [
        "# boucle entrainement\n",
        "\n",
        "best_val_acc = 0\n",
        "patience = 2\n",
        "wait = 0\n",
        "\n",
        "train_accs, val_accs = [], []\n",
        "\n",
        "for epoch in range(50):\n",
        "    model.train()\n",
        "    correct = total = 0\n",
        "    train_loss = 0 # Initialize train_loss for each epoch\n",
        "    for images, labels in train_loader:\n",
        "        images, labels = images.to(device), labels.to(device)\n",
        "\n",
        "        outputs = model(images)\n",
        "        loss = criterion(outputs, labels)\n",
        "\n",
        "        optimizer.zero_grad()\n",
        "        loss.backward()\n",
        "        optimizer.step()\n",
        "\n",
        "        train_loss += loss.item() * images.size(0) # Accumulate loss\n",
        "        _, predicted = outputs.max(1)\n",
        "        total += labels.size(0)\n",
        "        correct += predicted.eq(labels).sum().item()\n",
        "\n",
        "    train_loss /= len(train_loader.dataset) # Calculate average train loss\n",
        "    train_acc = 100 * correct / total\n",
        "    train_accs.append(train_acc)\n",
        "\n",
        "    model.eval()\n",
        "    correct = total = 0\n",
        "    val_loss = 0 # Initialize val_loss for each epoch\n",
        "    with torch.no_grad():\n",
        "        for images, labels in val_loader:\n",
        "            images, labels = images.to(device), labels.to(device)\n",
        "            outputs = model(images)\n",
        "            loss = criterion(outputs, labels) # Calculate loss for validation\n",
        "            val_loss += loss.item() * images.size(0) # Accumulate loss\n",
        "            _, predicted = outputs.max(1)\n",
        "            total += labels.size(0)\n",
        "            correct += predicted.eq(labels).sum().item()\n",
        "\n",
        "    val_loss /= len(val_loader.dataset) # Calculate average validation loss\n",
        "    val_acc = 100 * correct / total\n",
        "    val_accs.append(val_acc)\n",
        "\n",
        "    print(f\"[{epoch+1}/20] Train Acc: {train_acc:.2f}% | Val Acc: {val_acc:.2f}%\")\n",
        "    experiment.log_metric(\"train_loss\", train_loss, step=epoch)\n",
        "    experiment.log_metric(\"val_loss\", val_loss, step=epoch)\n",
        "    experiment.log_metric(\"train_acc\", train_acc, step=epoch)\n",
        "    experiment.log_metric(\"val_acc\", val_acc, step=epoch)\n",
        "\n",
        "    scheduler.step(val_loss) # Step the scheduler with validation loss\n",
        "\n",
        "    if val_acc > best_val_acc:\n",
        "        best_val_acc = val_acc\n",
        "        wait = 0\n",
        "        torch.save(model.state_dict(), \"best_model.pth\")\n",
        "    else:\n",
        "        wait += 1\n",
        "        if wait >= patience:\n",
        "            print(\"Early stopping.\")\n",
        "            break"
      ]
    },
    {
      "cell_type": "code",
      "execution_count": null,
      "metadata": {
        "id": "ded_K-5eIYJt",
        "colab": {
          "base_uri": "https://localhost:8080/"
        },
        "outputId": "4a86ce71-3976-43b2-d099-333ce2d311b3"
      },
      "outputs": [
        {
          "output_type": "stream",
          "name": "stdout",
          "text": [
            "Test Accuracy: 84.42%\n"
          ]
        }
      ],
      "source": [
        "# Évaluation sur le test set\n",
        "\n",
        "model.eval()\n",
        "correct = 0\n",
        "total = 0\n",
        "\n",
        "with torch.no_grad():\n",
        "    for images, labels in test_loader:\n",
        "        images, labels = images.to(device), labels.to(device)\n",
        "        outputs = model(images)\n",
        "        _, predicted = torch.max(outputs.data, 1)\n",
        "        total += labels.size(0)\n",
        "        correct += (predicted == labels).sum().item()\n",
        "\n",
        "test_acc = 100 * correct / total\n",
        "print(f\"Test Accuracy: {test_acc:.2f}%\")\n",
        "experiment.log_metric(\"test_accuracy\", test_acc)\n",
        "log_model(experiment, model, model_name=\"CNN_QuickDraw\")\n",
        "\n",
        "# fonction d’affichage de courbes\n",
        "\n",
        "def plot_training_history(history):\n",
        "    plt.figure(figsize=(12, 5))\n",
        "    plt.subplot(1, 2, 1)\n",
        "    plt.plot(history.history[\"accuracy\"], label=\"Train\")\n",
        "    plt.plot(history.history[\"val_accuracy\"], label=\"Val\")\n",
        "    plt.title(\"Accuracy\")\n",
        "    plt.legend()\n",
        "\n",
        "    plt.subplot(1, 2, 2)\n",
        "    plt.plot(history.history[\"loss\"], label=\"Train\")\n",
        "    plt.plot(history.history[\"val_loss\"], label=\"Val\")\n",
        "    plt.title(\"Loss\")\n",
        "    plt.legend()\n",
        "    plt.show()\n"
      ]
    },
    {
      "cell_type": "code",
      "execution_count": null,
      "metadata": {
        "id": "Am8Z4daWIcfY",
        "colab": {
          "base_uri": "https://localhost:8080/"
        },
        "outputId": "b6ce7fab-a932-472c-c511-acec85dbc09f"
      },
      "outputs": [
        {
          "output_type": "stream",
          "name": "stdout",
          "text": [
            "Modèle sauvegardé dans quickdraw_animal.pth\n"
          ]
        }
      ],
      "source": [
        "#  Sauvegarde du modèle entraîné (.pth)\n",
        "\n",
        "model_path = \"quickdraw_animal.pth\"\n",
        "torch.save(model.state_dict(), model_path)\n",
        "print(f\"Modèle sauvegardé dans {model_path}\")"
      ]
    },
    {
      "cell_type": "code",
      "execution_count": null,
      "metadata": {
        "id": "J59EaLqzIkeW"
      },
      "outputs": [],
      "source": [
        "# Arrêt du tracking Weights & Biases\n",
        "\n",
        "wandb.finish()"
      ]
    },
    {
      "cell_type": "code",
      "execution_count": null,
      "metadata": {
        "id": "jgZ6APxBIoMQ"
      },
      "outputs": [],
      "source": [
        "def train_model(model, optimizer, train_loader, val_loader, criterion, epochs=3):\n",
        "    model.to(device)\n",
        "    best_acc = 0.0\n",
        "    for epoch in range(epochs):\n",
        "        model.train()\n",
        "        for x_batch, y_batch in train_loader:\n",
        "            x_batch, y_batch = x_batch.to(device), y_batch.to(device)\n",
        "            optimizer.zero_grad()\n",
        "            preds = model(x_batch)\n",
        "            loss = criterion(preds, y_batch)\n",
        "            loss.backward()\n",
        "            optimizer.step()\n",
        "\n",
        "        # Évaluation validation\n",
        "        model.eval()\n",
        "        correct = total = 0\n",
        "        with torch.no_grad():\n",
        "            for x_val, y_val in val_loader:\n",
        "                x_val, y_val = x_val.to(device), y_val.to(device)\n",
        "                outputs = model(x_val)\n",
        "                _, predicted = torch.max(outputs, 1)\n",
        "                total += y_val.size(0)\n",
        "                correct += (predicted == y_val).sum().item()\n",
        "\n",
        "        acc = correct / total\n",
        "        if acc > best_acc:\n",
        "            best_acc = acc\n",
        "    return best_acc\n",
        "\n",
        "\n",
        "def objective(trial):\n",
        "    # Paramètres Optuna à tester\n",
        "    lr = trial.suggest_float(\"lr\", 1e-4, 1e-2, log=True)\n",
        "    dropout = trial.suggest_float(\"dropout\", 0.3, 0.7)\n",
        "    batch_size = trial.suggest_categorical(\"batch_size\", [32, 64, 128])\n",
        "\n",
        "    # Conversion numpy -> torch.tensor\n",
        "    X_train_tensor = torch.tensor(X_train).float()\n",
        "    y_train_tensor = torch.tensor(y_train).long()\n",
        "    X_val_tensor   = torch.tensor(X_val).float()\n",
        "    y_val_tensor   = torch.tensor(y_val).long()\n",
        "\n",
        "    # Création des jeux de données\n",
        "    train_dataset = TensorDataset(X_train_tensor, y_train_tensor)\n",
        "    val_dataset = TensorDataset(X_val_tensor, y_val_tensor)\n",
        "\n",
        "    # DataLoaders\n",
        "    train_loader = DataLoader(train_dataset, batch_size=batch_size, shuffle=True)\n",
        "    val_loader = DataLoader(val_dataset, batch_size=batch_size)\n",
        "\n",
        "    # Définition du modèle (exemple CNN simple avec dropout variable)\n",
        "    class TunedCNN(nn.Module):\n",
        "        def __init__(self):\n",
        "            super(TunedCNN, self).__init__()\n",
        "            self.features = nn.Sequential(\n",
        "                nn.Conv2d(1, 32, 3, padding=1),\n",
        "                nn.ReLU(),\n",
        "                nn.Conv2d(32, 32, 3, padding=1),\n",
        "                nn.ReLU(),\n",
        "                nn.MaxPool2d(2),\n",
        "                nn.Dropout(dropout),\n",
        "\n",
        "                nn.Conv2d(32, 64, 3, padding=1),\n",
        "                nn.ReLU(),\n",
        "                nn.Conv2d(64, 64, 3, padding=1),\n",
        "                nn.ReLU(),\n",
        "                nn.MaxPool2d(2),\n",
        "                nn.Dropout(dropout),\n",
        "            )\n",
        "            self.classifier = nn.Sequential(\n",
        "                nn.Flatten(),\n",
        "                nn.Linear(64 * 7 * 7, 128),\n",
        "                nn.ReLU(),\n",
        "                nn.Dropout(dropout),\n",
        "                nn.Linear(128, len(label_encoder.classes_))  # nombre de classes\n",
        "            )\n",
        "\n",
        "        def forward(self, x):\n",
        "            x = self.features(x)\n",
        "            x = self.classifier(x)\n",
        "            return x\n",
        "\n",
        "    model = TunedCNN().to(device)\n",
        "    optimizer = optim.Adam(model.parameters(), lr=lr)\n",
        "    criterion = nn.CrossEntropyLoss()\n",
        "\n",
        "    # Entraînement rapide (3 epochs max pour Optuna)\n",
        "    best_acc = 0\n",
        "    for epoch in range(3):\n",
        "        model.train()\n",
        "        for xb, yb in train_loader:\n",
        "            xb, yb = xb.to(device), yb.to(device)\n",
        "            optimizer.zero_grad()\n",
        "            preds = model(xb)\n",
        "            loss = criterion(preds, yb)\n",
        "            loss.backward()\n",
        "            optimizer.step()\n",
        "\n",
        "        # Évaluation sur validation\n",
        "        model.eval()\n",
        "        correct, total = 0, 0\n",
        "        with torch.no_grad():\n",
        "            for xb, yb in val_loader:\n",
        "                xb, yb = xb.to(device), yb.to(device)\n",
        "                outputs = model(xb)\n",
        "                _, predicted = torch.max(outputs, 1)\n",
        "                total += yb.size(0)\n",
        "                correct += (predicted == yb).sum().item()\n",
        "\n",
        "        acc = correct / total\n",
        "        if acc > best_acc:\n",
        "            best_acc = acc\n",
        "\n",
        "    return best_acc"
      ]
    },
    {
      "cell_type": "code",
      "execution_count": null,
      "metadata": {
        "id": "dyvkM81pAZ-A",
        "colab": {
          "base_uri": "https://localhost:8080/"
        },
        "outputId": "1d04ec4b-06ea-48b5-e446-9da215321d9e"
      },
      "outputs": [
        {
          "output_type": "stream",
          "name": "stdout",
          "text": [
            "Type de X_train : <class 'numpy.ndarray'>\n",
            "Shape de X_train : (152000, 1, 28, 28)\n",
            "Type de y_train : <class 'numpy.ndarray'>\n",
            "Shape de y_train : (152000,)\n"
          ]
        }
      ],
      "source": [
        "print(\"Type de X_train :\", type(X_train))\n",
        "print(\"Shape de X_train :\", getattr(X_train, 'shape', 'no shape'))\n",
        "print(\"Type de y_train :\", type(y_train))\n",
        "print(\"Shape de y_train :\", getattr(y_train, 'shape', 'no shape'))\n"
      ]
    },
    {
      "cell_type": "code",
      "execution_count": null,
      "metadata": {
        "id": "DZdmbBVh9Y_z",
        "colab": {
          "base_uri": "https://localhost:8080/"
        },
        "outputId": "69476bff-c552-4aeb-88ea-5b880489872f"
      },
      "outputs": [
        {
          "metadata": {
            "tags": null
          },
          "name": "stderr",
          "output_type": "stream",
          "text": [
            "[I 2025-05-27 08:23:51,078] A new study created in memory with name: no-name-ce1ef47d-061b-4716-8d4d-e1b93b72a799\n",
            "[I 2025-05-27 08:24:24,280] Trial 0 finished with value: 0.7072631578947368 and parameters: {'lr': 0.0002855339397042051, 'dropout': 0.6457111584222855, 'batch_size': 64}. Best is trial 0 with value: 0.7072631578947368.\n",
            "[I 2025-05-27 08:24:52,699] Trial 1 finished with value: 0.6954210526315789 and parameters: {'lr': 0.0003220008646002111, 'dropout': 0.6119663877229842, 'batch_size': 128}. Best is trial 0 with value: 0.7072631578947368.\n",
            "[I 2025-05-27 08:25:41,557] Trial 2 finished with value: 0.7622631578947369 and parameters: {'lr': 0.0003245772338030808, 'dropout': 0.4960566590800759, 'batch_size': 32}. Best is trial 2 with value: 0.7622631578947369.\n",
            "[I 2025-05-27 08:26:09,194] Trial 3 finished with value: 0.05263157894736842 and parameters: {'lr': 0.00775159771137797, 'dropout': 0.3333417698816321, 'batch_size': 128}. Best is trial 2 with value: 0.7622631578947369.\n"
          ]
        }
      ],
      "source": [
        "study = optuna.create_study(direction=\"maximize\")\n",
        "study.optimize(objective, n_trials=20)\n",
        "\n",
        "print(\"Best accuracy:\", study.best_value)\n",
        "print(\"Best params:\", study.best_params)\n"
      ]
    },
    {
      "cell_type": "code",
      "execution_count": null,
      "metadata": {
        "id": "okGYIVC31fV3"
      },
      "outputs": [],
      "source": []
    }
  ],
  "metadata": {
    "accelerator": "GPU",
    "colab": {
      "gpuType": "T4",
      "provenance": []
    },
    "kernelspec": {
      "display_name": "Python 3",
      "name": "python3"
    },
    "language_info": {
      "codemirror_mode": {
        "name": "ipython",
        "version": 3
      },
      "file_extension": ".py",
      "mimetype": "text/x-python",
      "name": "python",
      "nbconvert_exporter": "python",
      "pygments_lexer": "ipython3",
      "version": "3.12.2"
    }
  },
  "nbformat": 4,
  "nbformat_minor": 0
}